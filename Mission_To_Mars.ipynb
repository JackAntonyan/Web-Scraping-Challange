{
 "cells": [
  {
   "cell_type": "markdown",
   "metadata": {},
   "source": [
    "# Nasa Mars News"
   ]
  },
  {
   "cell_type": "code",
   "execution_count": 31,
   "metadata": {},
   "outputs": [],
   "source": [
    "from bs4 import BeautifulSoup as bs\n",
    "from pprint import pprint\n",
    "from splinter import Browser\n",
    "import pandas as pd"
   ]
  },
  {
   "cell_type": "code",
   "execution_count": 32,
   "metadata": {},
   "outputs": [
    {
     "name": "stdout",
     "output_type": "stream",
     "text": [
      "/usr/local/bin/chromedriver\n"
     ]
    }
   ],
   "source": [
    "# https://splinter.readthedocs.io/en/latest/drivers/chrome.html\n",
    "!which chromedriver"
   ]
  },
  {
   "cell_type": "code",
   "execution_count": 33,
   "metadata": {},
   "outputs": [],
   "source": [
    "executable_path = {'executable_path': '/usr/local/bin/chromedriver'}\n",
    "browser = Browser('chrome', **executable_path, headless=False)"
   ]
  },
  {
   "cell_type": "code",
   "execution_count": 34,
   "metadata": {},
   "outputs": [],
   "source": [
    "# URL of page to be scraped\n",
    "url = 'https://mars.nasa.gov/news/'\n",
    "browser.visit(url)"
   ]
  },
  {
   "cell_type": "code",
   "execution_count": 35,
   "metadata": {},
   "outputs": [],
   "source": [
    "html = browser.html\n",
    "soup = bs(html, 'html.parser')"
   ]
  },
  {
   "cell_type": "code",
   "execution_count": 36,
   "metadata": {},
   "outputs": [
    {
     "name": "stdout",
     "output_type": "stream",
     "text": [
      "Media Get a Close-Up of NASA's Mars 2020 Rover\n"
     ]
    }
   ],
   "source": [
    "news_title = soup.find('div', class_='content_title')\n",
    "print(news_title.text)"
   ]
  },
  {
   "cell_type": "code",
   "execution_count": 37,
   "metadata": {},
   "outputs": [
    {
     "name": "stdout",
     "output_type": "stream",
     "text": [
      "The clean room at NASA's Jet Propulsion Laboratory was open to the media to see NASA's next Mars explorer before it leaves for Florida in preparation for a summertime launch.\n"
     ]
    }
   ],
   "source": [
    "news_p = soup.find('div', class_='article_teaser_body')\n",
    "print(news_p.text)"
   ]
  },
  {
   "cell_type": "code",
   "execution_count": 38,
   "metadata": {},
   "outputs": [],
   "source": [
    "url = 'https://www.jpl.nasa.gov/spaceimages/?search=&category=Mars'\n",
    "browser.visit(url)"
   ]
  },
  {
   "cell_type": "code",
   "execution_count": 39,
   "metadata": {},
   "outputs": [],
   "source": [
    "html = browser.html\n",
    "soup = bs(html, 'html.parser')"
   ]
  },
  {
   "cell_type": "code",
   "execution_count": 40,
   "metadata": {},
   "outputs": [],
   "source": [
    "# stuff=soup.find('div', class_='carousel_container')\n",
    "# stuff"
   ]
  },
  {
   "cell_type": "code",
   "execution_count": 41,
   "metadata": {},
   "outputs": [
    {
     "data": {
      "text/plain": [
       "'/spaceimages/images/mediumsize/PIA20063_ip.jpg'"
      ]
     },
     "execution_count": 41,
     "metadata": {},
     "output_type": "execute_result"
    }
   ],
   "source": [
    "image_href = soup.find('a', class_=\"button fancybox\")[\"data-fancybox-href\"]\n",
    "image_href"
   ]
  },
  {
   "cell_type": "code",
   "execution_count": 42,
   "metadata": {},
   "outputs": [
    {
     "data": {
      "text/plain": [
       "'https://www.jpl.nasa.gov//spaceimages/images/mediumsize/PIA20063_ip.jpg'"
      ]
     },
     "execution_count": 42,
     "metadata": {},
     "output_type": "execute_result"
    }
   ],
   "source": [
    "url = \"https://www.jpl.nasa.gov/\"\n",
    "featured_image_url = url+image_href\n",
    "featured_image_url"
   ]
  },
  {
   "cell_type": "markdown",
   "metadata": {},
   "source": [
    "# Mars Weather from Twitter"
   ]
  },
  {
   "cell_type": "code",
   "execution_count": 43,
   "metadata": {},
   "outputs": [],
   "source": [
    "weather_url = 'https://twitter.com/marswxreport?lang=en'\n",
    "browser.visit(weather_url)"
   ]
  },
  {
   "cell_type": "code",
   "execution_count": 44,
   "metadata": {},
   "outputs": [],
   "source": [
    "html = browser.html\n",
    "soup = bs(html, 'html.parser')"
   ]
  },
  {
   "cell_type": "code",
   "execution_count": 45,
   "metadata": {},
   "outputs": [
    {
     "name": "stdout",
     "output_type": "stream",
     "text": [
      "InSight sol 391 (2020-01-01) low -99.0ºC (-146.1ºF) high -17.6ºC (0.3ºF)\n",
      "winds from the SE at 5.7 m/s (12.7 mph) gusting to 21.9 m/s (49.0 mph)\n",
      "pressure at 6.40 hPapic.twitter.com/bSrZXEn17r\n"
     ]
    }
   ],
   "source": [
    "twitter_mars_weather =soup.find('p', class_='TweetTextSize TweetTextSize--normal js-tweet-text tweet-text')\n",
    "print(twitter_mars_weather.text)"
   ]
  },
  {
   "cell_type": "markdown",
   "metadata": {},
   "source": [
    "# Mars Space Facts"
   ]
  },
  {
   "cell_type": "code",
   "execution_count": 46,
   "metadata": {},
   "outputs": [],
   "source": [
    "facts_url = 'https://space-facts.com/mars/'"
   ]
  },
  {
   "cell_type": "code",
   "execution_count": 47,
   "metadata": {},
   "outputs": [
    {
     "data": {
      "text/plain": [
       "[                      0                              1\n",
       " 0  Equatorial Diameter:                       6,792 km\n",
       " 1       Polar Diameter:                       6,752 km\n",
       " 2                 Mass:  6.39 × 10^23 kg (0.11 Earths)\n",
       " 3                Moons:            2 (Phobos & Deimos)\n",
       " 4       Orbit Distance:       227,943,824 km (1.38 AU)\n",
       " 5         Orbit Period:           687 days (1.9 years)\n",
       " 6  Surface Temperature:                   -87 to -5 °C\n",
       " 7         First Record:              2nd millennium BC\n",
       " 8          Recorded By:           Egyptian astronomers,\n",
       "   Mars - Earth Comparison             Mars            Earth\n",
       " 0               Diameter:         6,779 km        12,742 km\n",
       " 1                   Mass:  6.39 × 10^23 kg  5.97 × 10^24 kg\n",
       " 2                  Moons:                2                1\n",
       " 3      Distance from Sun:   227,943,824 km   149,598,262 km\n",
       " 4         Length of Year:   687 Earth days      365.24 days\n",
       " 5            Temperature:    -153 to 20 °C      -88 to 58°C,\n",
       "                       0                              1\n",
       " 0  Equatorial Diameter:                       6,792 km\n",
       " 1       Polar Diameter:                       6,752 km\n",
       " 2                 Mass:  6.39 × 10^23 kg (0.11 Earths)\n",
       " 3                Moons:            2 (Phobos & Deimos)\n",
       " 4       Orbit Distance:       227,943,824 km (1.38 AU)\n",
       " 5         Orbit Period:           687 days (1.9 years)\n",
       " 6  Surface Temperature:                   -87 to -5 °C\n",
       " 7         First Record:              2nd millennium BC\n",
       " 8          Recorded By:           Egyptian astronomers]"
      ]
     },
     "execution_count": 47,
     "metadata": {},
     "output_type": "execute_result"
    }
   ],
   "source": [
    "tables = pd.read_html(facts_url)\n",
    "tables"
   ]
  },
  {
   "cell_type": "code",
   "execution_count": 48,
   "metadata": {},
   "outputs": [
    {
     "data": {
      "text/html": [
       "<div>\n",
       "<style scoped>\n",
       "    .dataframe tbody tr th:only-of-type {\n",
       "        vertical-align: middle;\n",
       "    }\n",
       "\n",
       "    .dataframe tbody tr th {\n",
       "        vertical-align: top;\n",
       "    }\n",
       "\n",
       "    .dataframe thead th {\n",
       "        text-align: right;\n",
       "    }\n",
       "</style>\n",
       "<table border=\"1\" class=\"dataframe\">\n",
       "  <thead>\n",
       "    <tr style=\"text-align: right;\">\n",
       "      <th></th>\n",
       "      <th>value</th>\n",
       "    </tr>\n",
       "    <tr>\n",
       "      <th>description</th>\n",
       "      <th></th>\n",
       "    </tr>\n",
       "  </thead>\n",
       "  <tbody>\n",
       "    <tr>\n",
       "      <th>Equatorial Diameter:</th>\n",
       "      <td>6,792 km</td>\n",
       "    </tr>\n",
       "    <tr>\n",
       "      <th>Polar Diameter:</th>\n",
       "      <td>6,752 km</td>\n",
       "    </tr>\n",
       "    <tr>\n",
       "      <th>Mass:</th>\n",
       "      <td>6.39 × 10^23 kg (0.11 Earths)</td>\n",
       "    </tr>\n",
       "    <tr>\n",
       "      <th>Moons:</th>\n",
       "      <td>2 (Phobos &amp; Deimos)</td>\n",
       "    </tr>\n",
       "    <tr>\n",
       "      <th>Orbit Distance:</th>\n",
       "      <td>227,943,824 km (1.38 AU)</td>\n",
       "    </tr>\n",
       "    <tr>\n",
       "      <th>Orbit Period:</th>\n",
       "      <td>687 days (1.9 years)</td>\n",
       "    </tr>\n",
       "    <tr>\n",
       "      <th>Surface Temperature:</th>\n",
       "      <td>-87 to -5 °C</td>\n",
       "    </tr>\n",
       "    <tr>\n",
       "      <th>First Record:</th>\n",
       "      <td>2nd millennium BC</td>\n",
       "    </tr>\n",
       "    <tr>\n",
       "      <th>Recorded By:</th>\n",
       "      <td>Egyptian astronomers</td>\n",
       "    </tr>\n",
       "  </tbody>\n",
       "</table>\n",
       "</div>"
      ],
      "text/plain": [
       "                                              value\n",
       "description                                        \n",
       "Equatorial Diameter:                       6,792 km\n",
       "Polar Diameter:                            6,752 km\n",
       "Mass:                 6.39 × 10^23 kg (0.11 Earths)\n",
       "Moons:                          2 (Phobos & Deimos)\n",
       "Orbit Distance:            227,943,824 km (1.38 AU)\n",
       "Orbit Period:                  687 days (1.9 years)\n",
       "Surface Temperature:                   -87 to -5 °C\n",
       "First Record:                     2nd millennium BC\n",
       "Recorded By:                   Egyptian astronomers"
      ]
     },
     "execution_count": 48,
     "metadata": {},
     "output_type": "execute_result"
    }
   ],
   "source": [
    "mars_df= tables[0]\n",
    "mars_df.columns=[\"description\",\"value\"]\n",
    "mars_df.set_index(\"description\",inplace=True)\n",
    "mars_df"
   ]
  },
  {
   "cell_type": "code",
   "execution_count": 49,
   "metadata": {},
   "outputs": [
    {
     "name": "stdout",
     "output_type": "stream",
     "text": [
      "<table border=\"1\" class=\"dataframe\">   <thead>     <tr style=\"text-align: right;\">       <th></th>       <th>value</th>     </tr>     <tr>       <th>description</th>       <th></th>     </tr>   </thead>   <tbody>     <tr>       <th>Equatorial Diameter:</th>       <td>6,792 km</td>     </tr>     <tr>       <th>Polar Diameter:</th>       <td>6,752 km</td>     </tr>     <tr>       <th>Mass:</th>       <td>6.39 × 10^23 kg (0.11 Earths)</td>     </tr>     <tr>       <th>Moons:</th>       <td>2 (Phobos &amp; Deimos)</td>     </tr>     <tr>       <th>Orbit Distance:</th>       <td>227,943,824 km (1.38 AU)</td>     </tr>     <tr>       <th>Orbit Period:</th>       <td>687 days (1.9 years)</td>     </tr>     <tr>       <th>Surface Temperature:</th>       <td>-87 to -5 °C</td>     </tr>     <tr>       <th>First Record:</th>       <td>2nd millennium BC</td>     </tr>     <tr>       <th>Recorded By:</th>       <td>Egyptian astronomers</td>     </tr>   </tbody> </table>\n"
     ]
    }
   ],
   "source": [
    "mars_html_table = mars_df.to_html()\n",
    "#mars_html_table--->was to see what does it look like\n",
    "final_html_table=mars_html_table.replace('\\n',' ')\n",
    "print(final_html_table.)"
   ]
  },
  {
   "cell_type": "code",
   "execution_count": 50,
   "metadata": {},
   "outputs": [],
   "source": [
    "text_file = open(\"table.html\", \"w\")\n",
    "text_file.write(mars_html_table)\n",
    "text_file.close()"
   ]
  },
  {
   "cell_type": "markdown",
   "metadata": {},
   "source": [
    "# Mars Hemispheres"
   ]
  },
  {
   "cell_type": "code",
   "execution_count": 51,
   "metadata": {},
   "outputs": [],
   "source": [
    "hemi_url= 'https://astrogeology.usgs.gov/search/results?q=hemisphere+enhanced&k1=target&v1=Mars'\n",
    "browser.visit(hemi_url)"
   ]
  },
  {
   "cell_type": "code",
   "execution_count": 52,
   "metadata": {},
   "outputs": [],
   "source": [
    "html = browser.html\n",
    "soup = bs(html,'html.parser')"
   ]
  },
  {
   "cell_type": "code",
   "execution_count": 53,
   "metadata": {},
   "outputs": [
    {
     "name": "stdout",
     "output_type": "stream",
     "text": [
      "('<div class=\"collapsible results\">\\n'\n",
      " ' <div class=\"item\">\\n'\n",
      " '  <a class=\"itemLink product-item\" '\n",
      " 'href=\"/search/map/Mars/Viking/cerberus_enhanced\">\\n'\n",
      " '   <img alt=\"Cerberus Hemisphere Enhanced thumbnail\" class=\"thumb\" '\n",
      " 'src=\"/cache/images/dfaf3849e74bf973b59eb50dab52b583_cerberus_enhanced.tif_thumb.png\"/>\\n'\n",
      " '  </a>\\n'\n",
      " '  <div class=\"description\">\\n'\n",
      " '   <a class=\"itemLink product-item\" '\n",
      " 'href=\"/search/map/Mars/Viking/cerberus_enhanced\">\\n'\n",
      " '    <h3>\\n'\n",
      " '     Cerberus Hemisphere Enhanced\\n'\n",
      " '    </h3>\\n'\n",
      " '   </a>\\n'\n",
      " '   <span class=\"subtitle\" style=\"float:left\">\\n'\n",
      " '    image/tiff 21 MB\\n'\n",
      " '   </span>\\n'\n",
      " '   <span class=\"pubDate\" style=\"float:right\">\\n'\n",
      " '   </span>\\n'\n",
      " '   <br/>\\n'\n",
      " '   <p>\\n'\n",
      " '    Mosaic of the Cerberus hemisphere of Mars projected into point '\n",
      " 'perspective, a view similar to that which one would see from a spacecraft. '\n",
      " 'This mosaic is composed of 104 Viking Orbiter images acquired…\\n'\n",
      " '   </p>\\n'\n",
      " '  </div>\\n'\n",
      " '  <!-- end description -->\\n'\n",
      " ' </div>\\n'\n",
      " ' <div class=\"item\">\\n'\n",
      " '  <a class=\"itemLink product-item\" '\n",
      " 'href=\"/search/map/Mars/Viking/schiaparelli_enhanced\">\\n'\n",
      " '   <img alt=\"Schiaparelli Hemisphere Enhanced thumbnail\" class=\"thumb\" '\n",
      " 'src=\"/cache/images/7677c0a006b83871b5a2f66985ab5857_schiaparelli_enhanced.tif_thumb.png\"/>\\n'\n",
      " '  </a>\\n'\n",
      " '  <div class=\"description\">\\n'\n",
      " '   <a class=\"itemLink product-item\" '\n",
      " 'href=\"/search/map/Mars/Viking/schiaparelli_enhanced\">\\n'\n",
      " '    <h3>\\n'\n",
      " '     Schiaparelli Hemisphere Enhanced\\n'\n",
      " '    </h3>\\n'\n",
      " '   </a>\\n'\n",
      " '   <span class=\"subtitle\" style=\"float:left\">\\n'\n",
      " '    image/tiff 35 MB\\n'\n",
      " '   </span>\\n'\n",
      " '   <span class=\"pubDate\" style=\"float:right\">\\n'\n",
      " '   </span>\\n'\n",
      " '   <br/>\\n'\n",
      " '   <p>\\n'\n",
      " '    Mosaic of the Schiaparelli hemisphere of Mars projected into point '\n",
      " 'perspective, a view similar to that which one would see from a spacecraft. '\n",
      " 'The images were acquired in 1980 during early northern…\\n'\n",
      " '   </p>\\n'\n",
      " '  </div>\\n'\n",
      " '  <!-- end description -->\\n'\n",
      " ' </div>\\n'\n",
      " ' <div class=\"item\">\\n'\n",
      " '  <a class=\"itemLink product-item\" '\n",
      " 'href=\"/search/map/Mars/Viking/syrtis_major_enhanced\">\\n'\n",
      " '   <img alt=\"Syrtis Major Hemisphere Enhanced thumbnail\" class=\"thumb\" '\n",
      " 'src=\"/cache/images/aae41197e40d6d4f3ea557f8cfe51d15_syrtis_major_enhanced.tif_thumb.png\"/>\\n'\n",
      " '  </a>\\n'\n",
      " '  <div class=\"description\">\\n'\n",
      " '   <a class=\"itemLink product-item\" '\n",
      " 'href=\"/search/map/Mars/Viking/syrtis_major_enhanced\">\\n'\n",
      " '    <h3>\\n'\n",
      " '     Syrtis Major Hemisphere Enhanced\\n'\n",
      " '    </h3>\\n'\n",
      " '   </a>\\n'\n",
      " '   <span class=\"subtitle\" style=\"float:left\">\\n'\n",
      " '    image/tiff 25 MB\\n'\n",
      " '   </span>\\n'\n",
      " '   <span class=\"pubDate\" style=\"float:right\">\\n'\n",
      " '   </span>\\n'\n",
      " '   <br/>\\n'\n",
      " '   <p>\\n'\n",
      " '    Mosaic of the Syrtis Major hemisphere of Mars projected into point '\n",
      " 'perspective, a view similar to that which one would see from a spacecraft. '\n",
      " 'This mosaic is composed of about 100 red and violet…\\n'\n",
      " '   </p>\\n'\n",
      " '  </div>\\n'\n",
      " '  <!-- end description -->\\n'\n",
      " ' </div>\\n'\n",
      " ' <div class=\"item\">\\n'\n",
      " '  <a class=\"itemLink product-item\" '\n",
      " 'href=\"/search/map/Mars/Viking/valles_marineris_enhanced\">\\n'\n",
      " '   <img alt=\"Valles Marineris Hemisphere Enhanced thumbnail\" class=\"thumb\" '\n",
      " 'src=\"/cache/images/04085d99ec3713883a9a57f42be9c725_valles_marineris_enhanced.tif_thumb.png\"/>\\n'\n",
      " '  </a>\\n'\n",
      " '  <div class=\"description\">\\n'\n",
      " '   <a class=\"itemLink product-item\" '\n",
      " 'href=\"/search/map/Mars/Viking/valles_marineris_enhanced\">\\n'\n",
      " '    <h3>\\n'\n",
      " '     Valles Marineris Hemisphere Enhanced\\n'\n",
      " '    </h3>\\n'\n",
      " '   </a>\\n'\n",
      " '   <span class=\"subtitle\" style=\"float:left\">\\n'\n",
      " '    image/tiff 27 MB\\n'\n",
      " '   </span>\\n'\n",
      " '   <span class=\"pubDate\" style=\"float:right\">\\n'\n",
      " '   </span>\\n'\n",
      " '   <br/>\\n'\n",
      " '   <p>\\n'\n",
      " '    Mosaic of the Valles Marineris hemisphere of Mars projected into point '\n",
      " 'perspective, a view similar to that which one would see from a spacecraft. '\n",
      " 'The distance is 2500 kilometers from the surface of…\\n'\n",
      " '   </p>\\n'\n",
      " '  </div>\\n'\n",
      " '  <!-- end description -->\\n'\n",
      " ' </div>\\n'\n",
      " ' <script>\\n'\n",
      " '  addBases=[];;if(typeof '\n",
      " 'resetLayerSwitcher===\"function\"){resetLayerSwitcher(false)};var productTotal '\n",
      " '= 4;\\n'\n",
      " ' </script>\\n'\n",
      " '</div>\\n')\n"
     ]
    }
   ],
   "source": [
    "all_hemispheres = soup.find('div', class_=\"collapsible results\")\n",
    "pprint(all_hemispheres.prettify())"
   ]
  },
  {
   "cell_type": "code",
   "execution_count": 54,
   "metadata": {},
   "outputs": [],
   "source": [
    "#hemis_imgs_urls=[]\n",
    "#hemis_imgs_title[]\n",
    "# for hemi in all_hemispheres:\n",
    "#     try:\n",
    "#         title = urls.find('h3').text\n",
    "#         link = urls.a['href']\n",
    "        \n",
    "#         if (title and link):\n",
    "#             print('----------------')\n",
    "#             print(f'title is : {title}')\n",
    "#             print(f'link is : {link}')\n",
    "    \n"
   ]
  },
  {
   "cell_type": "code",
   "execution_count": 55,
   "metadata": {},
   "outputs": [],
   "source": [
    "hemispheres=all_hemispheres.find_all('a')"
   ]
  },
  {
   "cell_type": "code",
   "execution_count": 56,
   "metadata": {},
   "outputs": [],
   "source": [
    "hemisphere_image_urls=[]\n",
    "for hemi in hemispheres:\n",
    "    if hemi.h3:\n",
    "        title=hemi.h3.text\n",
    "        link=hemi[\"href\"]\n",
    "        main_url=\"https://astrogeology.usgs.gov/\"\n",
    "        forward_url=main_url+link\n",
    "        browser.visit(forward_url)\n",
    "        html = browser.html\n",
    "        soup = bs(html, 'html.parser')\n",
    "        hemi2=soup.find(\"div\",class_= \"downloads\")\n",
    "        image=hemi2.ul.a[\"href\"]\n",
    "        hemi_dict={}\n",
    "        hemi_dict[\"title\"]=title\n",
    "        hemi_dict[\"img_url\"]=image\n",
    "        hemisphere_image_urls.append(hemi_dict)\n",
    "        browser.back()"
   ]
  },
  {
   "cell_type": "code",
   "execution_count": 57,
   "metadata": {},
   "outputs": [
    {
     "data": {
      "text/plain": [
       "[{'title': 'Cerberus Hemisphere Enhanced',\n",
       "  'img_url': 'http://astropedia.astrogeology.usgs.gov/download/Mars/Viking/cerberus_enhanced.tif/full.jpg'},\n",
       " {'title': 'Schiaparelli Hemisphere Enhanced',\n",
       "  'img_url': 'http://astropedia.astrogeology.usgs.gov/download/Mars/Viking/schiaparelli_enhanced.tif/full.jpg'},\n",
       " {'title': 'Syrtis Major Hemisphere Enhanced',\n",
       "  'img_url': 'http://astropedia.astrogeology.usgs.gov/download/Mars/Viking/syrtis_major_enhanced.tif/full.jpg'},\n",
       " {'title': 'Valles Marineris Hemisphere Enhanced',\n",
       "  'img_url': 'http://astropedia.astrogeology.usgs.gov/download/Mars/Viking/valles_marineris_enhanced.tif/full.jpg'}]"
      ]
     },
     "execution_count": 57,
     "metadata": {},
     "output_type": "execute_result"
    }
   ],
   "source": [
    "hemisphere_image_urls"
   ]
  },
  {
   "cell_type": "code",
   "execution_count": 58,
   "metadata": {},
   "outputs": [],
   "source": [
    "browser.quit()"
   ]
  },
  {
   "cell_type": "code",
   "execution_count": null,
   "metadata": {},
   "outputs": [],
   "source": []
  }
 ],
 "metadata": {
  "kernelspec": {
   "display_name": "Python 3",
   "language": "python",
   "name": "python3"
  },
  "language_info": {
   "codemirror_mode": {
    "name": "ipython",
    "version": 3
   },
   "file_extension": ".py",
   "mimetype": "text/x-python",
   "name": "python",
   "nbconvert_exporter": "python",
   "pygments_lexer": "ipython3",
   "version": "3.6.8"
  }
 },
 "nbformat": 4,
 "nbformat_minor": 4
}
